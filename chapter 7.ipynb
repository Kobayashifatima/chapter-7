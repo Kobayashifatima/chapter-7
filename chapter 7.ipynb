{
 "cells": [
  {
   "cell_type": "markdown",
   "id": "ad9eba53",
   "metadata": {},
   "source": [
    "# chapter 7\n"
   ]
  },
  {
   "cell_type": "markdown",
   "id": "2a6936d3",
   "metadata": {},
   "source": [
    "reading files\n"
   ]
  },
  {
   "cell_type": "code",
   "execution_count": 1,
   "id": "119f168c",
   "metadata": {},
   "outputs": [
    {
     "name": "stdout",
     "output_type": "stream",
     "text": [
      "The file 'example.txt' was not found.\n"
     ]
    }
   ],
   "source": [
    "# Define the file path\n",
    "file_path = \"example.txt\"\n",
    "\n",
    "try:\n",
    "    # Open the file in read mode\n",
    "    with open(file_path, \"r\") as file:\n",
    "        # Read the entire content of the file\n",
    "        file_content = file.read()\n",
    "        \n",
    "        # Print the content\n",
    "        print(\"File Content:\")\n",
    "        print(file_content)\n",
    "except FileNotFoundError:\n",
    "    print(f\"The file '{file_path}' was not found.\")\n",
    "except IOError:\n",
    "    print(f\"An error occurred while reading the file '{file_path}'.\")\n"
   ]
  },
  {
   "cell_type": "code",
   "execution_count": 3,
   "id": "b7cf9b90",
   "metadata": {},
   "outputs": [
    {
     "name": "stdout",
     "output_type": "stream",
     "text": [
      "The file 'example.txt' was not found.\n"
     ]
    }
   ],
   "source": [
    "\n",
    "file_path = \"example.txt\"\n",
    "\n",
    "try:\n",
    "    # Open and read the file\n",
    "    with open(file_path, \"r\") as file:\n",
    "        file_content = file.read()\n",
    "        print(\"File Content:\")\n",
    "        print(file_content)\n",
    "except FileNotFoundError:\n",
    "    print(f\"The file '{file_path}' was not found.\")\n",
    "except IOError:\n",
    "    print(f\"An error occurred while reading the file '{file_path}'.\")\n"
   ]
  },
  {
   "cell_type": "code",
   "execution_count": null,
   "id": "5e37dff3",
   "metadata": {},
   "outputs": [],
   "source": []
  }
 ],
 "metadata": {
  "kernelspec": {
   "display_name": "Python 3 (ipykernel)",
   "language": "python",
   "name": "python3"
  },
  "language_info": {
   "codemirror_mode": {
    "name": "ipython",
    "version": 3
   },
   "file_extension": ".py",
   "mimetype": "text/x-python",
   "name": "python",
   "nbconvert_exporter": "python",
   "pygments_lexer": "ipython3",
   "version": "3.11.4"
  }
 },
 "nbformat": 4,
 "nbformat_minor": 5
}
